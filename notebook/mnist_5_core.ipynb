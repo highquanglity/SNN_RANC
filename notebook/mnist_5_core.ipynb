{
  "nbformat": 4,
  "nbformat_minor": 0,
  "metadata": {
    "colab": {
      "name": "mnist_5_core.ipynb",
      "provenance": [],
      "collapsed_sections": []
    },
    "kernelspec": {
      "name": "python3",
      "display_name": "Python 3"
    },
    "language_info": {
      "name": "python"
    },
    "accelerator": "GPU"
  },
  "cells": [
    {
      "cell_type": "markdown",
      "source": [
        "# **GIẢ LẬP KIẾN TRÚC RANC VỚI TẬP MNIST**"
      ],
      "metadata": {
        "id": "GHVGheNRqSZa"
      }
    },
    {
      "cell_type": "markdown",
      "source": [
        "\n",
        "Tiến hành download toàn bộ code trong đường link này:\n",
        "https://github.com/UA-RCL/RANC/tree/master/software\n",
        "sau đó up lên colab, giải nén\n",
        "\n",
        "Có thể sử dụng link này để download: https://minhaskamal.github.io/DownGit/#/home\n"
      ],
      "metadata": {
        "id": "sc2jKO0yYIeT"
      }
    },
    {
      "cell_type": "code",
      "source": [
        "!unzip \"software.zip\""
      ],
      "metadata": {
        "id": "Q6SiX2Ti8m7k"
      },
      "execution_count": null,
      "outputs": []
    },
    {
      "cell_type": "markdown",
      "source": [
        "Code này sẽ sử dụng tealayer2.0 (sử dụng tensorflow 2.x)\n",
        "\n",
        "Sau khi giải nén, do code mặc định của họ đang sử dụng tensorflow 2.0.0b1 mà phiên bản đó giờ không còn được hỗ trợ nên cần phải chỉnh lại.\n",
        "\n",
        "=> Truy cập \"./sofware/tealayers/tealayer2.0/setup.py\", chỉnh dòng 19 thành 'tensorflow-gpu==2.7.0' hoặc bất cứ phiên bản 2.x nào đang được hỗ trợ rồi lưu lại"
      ],
      "metadata": {
        "id": "56eEv45AYP87"
      }
    },
    {
      "cell_type": "markdown",
      "source": [
        "Code của họ bị sai ở một đoạn, để sửa:\n",
        "\n",
        "=> Đi đến \"./software/tealayers/tealayer2.0/tealayer2/additivepooling.py\"\n",
        "\n",
        "Sửa dòng 73 thành \"output = tf.reshape(output, [-1, int(self.num_inputs//self.num_classes), self.num_classes])\" rồi lưu lại"
      ],
      "metadata": {
        "id": "tsqa8REUaMZv"
      }
    },
    {
      "cell_type": "code",
      "source": [
        "%cd \"./software\"\n",
        "!pip install \"./tealayers/tealayer2.0\"\n",
        "!pip install \"./rancutils\""
      ],
      "metadata": {
        "id": "M23YKlD694fI"
      },
      "execution_count": null,
      "outputs": []
    },
    {
      "cell_type": "markdown",
      "source": [
        "# **CÀI ĐẶT CÁC THƯ VIỆN CẦN THIẾT**"
      ],
      "metadata": {
        "id": "aBM19A2ESIKj"
      }
    },
    {
      "cell_type": "code",
      "source": [
        "from tealayer2 import Tea, AdditivePooling\n",
        "from tensorflow.keras.layers import Flatten, Activation, Input, Lambda, concatenate\n",
        "from tensorflow.keras.datasets import mnist\n",
        "from tensorflow.keras.optimizers import Adam\n",
        "from tensorflow.keras.utils import to_categorical\n",
        "from tensorflow.keras import Model\n",
        "import numpy as np\n",
        "import tensorflow.compat.v1 as tf\n",
        "tf.disable_v2_behavior()"
      ],
      "metadata": {
        "id": "uHz8iMojSHtI",
        "colab": {
          "base_uri": "https://localhost:8080/"
        },
        "outputId": "8b0b8f2a-a987-487e-f873-cab9d851f800"
      },
      "execution_count": null,
      "outputs": [
        {
          "output_type": "stream",
          "name": "stdout",
          "text": [
            "WARNING:tensorflow:From /usr/local/lib/python3.7/dist-packages/tensorflow/python/compat/v2_compat.py:107: disable_resource_variables (from tensorflow.python.ops.variable_scope) is deprecated and will be removed in a future version.\n",
            "Instructions for updating:\n",
            "non-resource variables are not supported in the long term\n"
          ]
        }
      ]
    },
    {
      "cell_type": "markdown",
      "source": [
        "# **KHỞI TẠO MẠNG**"
      ],
      "metadata": {
        "id": "JiUNlPiLSAEM"
      }
    },
    {
      "cell_type": "code",
      "source": [
        "# Greyscale images are of shape (28,28,1)\n",
        "inputs = Input(shape=(28,28,1))\n",
        "\n",
        "# Flatten the inputs so that inputs map as: flatten_input[0] -> axon[0], ..., flatten_input[255] -> axon[255]\n",
        "flattened_inputs = Flatten()(inputs)\n",
        "\n",
        "# Generate each core.\n",
        "# We are taking a 16x16 square of the input image and striding it by 12. this gives us 4 cores with 0 padding encumpassing the entire image.\n",
        "# Trải phẳng các ảnh input 28x28x1 thành 1 vector 784x1, quét từng đoạt 256 để đưa vào lần lượt các core, mỗi đoạn sau stride 12 phần tử so với đoạn trước\n",
        "# (Trong chương 02 ở file doc là quét 4 góc bức ảnh, nó cũng tương tự như thế này)\n",
        "core0 = Lambda(lambda x : x[:, :256])(flattened_inputs)\n",
        "core1 = Lambda(lambda x : x[:, 176:432])(flattened_inputs)\n",
        "core2 = Lambda(lambda x : x[:, 352:608])(flattened_inputs)\n",
        "core3 = Lambda(lambda x : x[:, 528:])(flattened_inputs)\n",
        "\n",
        "# Use the image distributions as corresponding inputs into our Tea Layer.\n",
        "# units là số neuron được sử dụng cho tea layer này, ở đây khai báo 4 tea layer với units = 64 (tương ứng 4 core với mỗi core sử dụng 64 neuron)\n",
        "core0 = Tea(units=64, name='tea_1_1')(core0)\n",
        "core1 = Tea(units=64, name='tea_1_2')(core1)\n",
        "core2 = Tea(units=64, name='tea_1_3')(core2)\n",
        "core3 = Tea(units=64, name='tea_1_4')(core3)\n",
        "\n",
        "# The classification is the concatenation of these 4 core's outputs.\n",
        "# We'll call the classification core our 'network'\n",
        "network = concatenate([core0, core1, core2, core3])\n",
        "\n",
        "# Gộp đầu ra của 4 core trên lại thành 1 layer khác (tổng sẽ là 256 đầu vào cho tea layer này), tuy nhiên\n",
        "# do chỉ có 10 class (các số từ 0 đến 9, mỗi số 1 class) => layer này chỉ sử dụng 250 neuron (do 256 không\n",
        "# chia hết cho 10), trong đó cứ 25 neuron thì sẽ vote cho 1 class, số lượng neuron vote cho class nào lớn \n",
        "# nhất thì ảnh sẽ thuộc về class đó. Ví dụ trong 250 đầu ra, từ 0 đến 24 có 17 spike bắn ra, đồng thời \n",
        "# không có cụm nào bắn ra được nhiều bằng hoặc hơn 17 => Ảnh thuộc về class số \"0\" \n",
        "network = Tea(units=250, name='tea_2')(network)\n",
        "\n",
        "network = AdditivePooling(10)(network)"
      ],
      "metadata": {
        "id": "bcghk_23SXWz"
      },
      "execution_count": null,
      "outputs": []
    },
    {
      "cell_type": "markdown",
      "source": [
        "# **TRAIN MODEL**"
      ],
      "metadata": {
        "id": "ZAS5HF-dV4ET"
      }
    },
    {
      "cell_type": "code",
      "source": [
        "# Chuẩn bị dataset để train\n",
        "(X_train, y_train), (X_test, y_test) = mnist.load_data()\n",
        "X_train = X_train.astype('float32')\n",
        "X_test = X_test.astype('float32')\n",
        "X_train /= 255\n",
        "X_test /= 255\n",
        "\n",
        "y_train = to_categorical(y_train, 10)\n",
        "y_test = to_categorical(y_test, 10)\n",
        "print(y_test.shape)\n",
        "\n",
        "\n",
        "predictions = Activation('softmax')(network)\n",
        "\n",
        "model = Model(inputs=inputs, outputs=predictions)\n",
        "\n",
        "model.compile(loss='categorical_crossentropy', optimizer=Adam(), metrics=['accuracy'])\n",
        "\n",
        "X_train = X_train.reshape(-1, 28, 28, 1)\n",
        "X_test = X_test.reshape(-1, 28, 28, 1)\n",
        "\n",
        "model.fit(X_train, y_train, batch_size=128, epochs=10, verbose=1, validation_split=0.2)\n",
        "\n",
        "score = model.evaluate(X_test, y_test, verbose=0)\n",
        "\n",
        "print(\"Test Loss: \", score[0])\n",
        "print(\"Test Accuracy: \", score[1])"
      ],
      "metadata": {
        "id": "dgyBxubCR_EB",
        "colab": {
          "base_uri": "https://localhost:8080/"
        },
        "outputId": "ec7bc35a-08f4-4de5-c1fc-743aa4321e80"
      },
      "execution_count": null,
      "outputs": [
        {
          "output_type": "stream",
          "name": "stdout",
          "text": [
            "48000/48000 [==============================] - 2s 43us/sample - loss: 0.2947 - acc: 0.9088 - val_loss: 0.3652 - val_acc: 0.8879\n",
            "Epoch 3/10\n",
            "48000/48000 [==============================] - 2s 43us/sample - loss: 0.2338 - acc: 0.9277 - val_loss: 0.2981 - val_acc: 0.9027\n",
            "Epoch 4/10\n",
            "48000/48000 [==============================] - 2s 44us/sample - loss: 0.2011 - acc: 0.9380 - val_loss: 0.2971 - val_acc: 0.9016\n",
            "Epoch 5/10\n",
            "48000/48000 [==============================] - 2s 44us/sample - loss: 0.1801 - acc: 0.9435 - val_loss: 0.2728 - val_acc: 0.9109\n",
            "Epoch 6/10\n",
            "48000/48000 [==============================] - 2s 45us/sample - loss: 0.1710 - acc: 0.9460 - val_loss: 0.2329 - val_acc: 0.9237\n",
            "Epoch 7/10\n",
            "48000/48000 [==============================] - 2s 44us/sample - loss: 0.1538 - acc: 0.9504 - val_loss: 0.2431 - val_acc: 0.9210\n",
            "Epoch 8/10\n",
            "48000/48000 [==============================] - 2s 44us/sample - loss: 0.1438 - acc: 0.9545 - val_loss: 0.2261 - val_acc: 0.9283\n",
            "Epoch 9/10\n",
            "48000/48000 [==============================] - 2s 44us/sample - loss: 0.1331 - acc: 0.9575 - val_loss: 0.2326 - val_acc: 0.9272\n",
            "Epoch 10/10\n",
            "48000/48000 [==============================] - 2s 44us/sample - loss: 0.1275 - acc: 0.9598 - val_loss: 0.2262 - val_acc: 0.9281\n",
            "Test Loss:  0.22301418153345584\n",
            "Test Accuracy:  0.9271\n"
          ]
        }
      ]
    },
    {
      "cell_type": "markdown",
      "source": [
        "# **GENERATE MẠNG VÀ CÁC PACKET**"
      ],
      "metadata": {
        "id": "pmLElL37WP5O"
      }
    },
    {
      "cell_type": "code",
      "source": [
        "# Optionally, then save the generated network out for use in the simulator and/or hardware\n",
        "from rancutils.teaconversion import create_cores, create_packets, Packet\n",
        "from rancutils.output_bus import OutputBus\n",
        "from rancutils.serialization import save as sim_save\n",
        "\n",
        "x_test_flat = X_test.reshape((10000, 784))\n",
        "partitioned_packets = []\n",
        "\n",
        "#test với 10000 ảnh\n",
        "num_test_samples = 10\n",
        "# Tạo các core bằng hàm create_cores(), sử dụng 2 layer (1 layer 4 core và 1 layer 1 core), sử dụng absolute reset mode: neuron_reset_type=0\n",
        "cores_sim = create_cores(model, 2, neuron_reset_type=0) \n",
        "# Partition the packets into groups as they will be fed into each of the input cores\n",
        "partitioned_packets.append(x_test_flat[:num_test_samples, :256])\n",
        "partitioned_packets.append(x_test_flat[:num_test_samples, 176:432])\n",
        "partitioned_packets.append(x_test_flat[:num_test_samples, 352:608])\n",
        "partitioned_packets.append(x_test_flat[:num_test_samples, 528:])\n",
        "# Tạo packet bằng hàm create_packets()\n",
        "packets_sim = create_packets(partitioned_packets)\n",
        "# Tạo output_bus bằng hàm OutputBus(coordinate, num_outputs)\n",
        "output_bus_sim = OutputBus((0, 2), num_outputs=250)\n",
        "\n",
        "# Đây chính là file đầu vào cho giả lập kiến trúc RANC bằng code C++\n",
        "sim_save(\"mnist_config.json\", cores_sim, packets_sim, output_bus_sim, indent=2)\n",
        "# Lưu lại đầu ra của tensorflow predictions và correct labels để tý làm cross validation\n",
        "predict = model.predict(X_test[:num_test_samples,:])\n",
        "idx = []\n",
        "for i in predict:\n",
        "  idx.append(np.argmax(i))\n",
        "test_predictions = to_categorical(idx)\n",
        "np.save(\"mnist_tf_preds.txt\", test_predictions)\n",
        "np.save(\"mnist_correct_preds.txt\", y_test[:num_test_samples,:])"
      ],
      "metadata": {
        "id": "8UFj0wDIWQeo",
        "colab": {
          "base_uri": "https://localhost:8080/"
        },
        "outputId": "e0ddf229-db0f-4db4-e915-89aebaaa59ef"
      },
      "execution_count": null,
      "outputs": [
        {
          "output_type": "stream",
          "name": "stderr",
          "text": [
            "/usr/local/lib/python3.7/dist-packages/keras/engine/training_v1.py:2079: UserWarning: `Model.state_updates` will be removed in a future version. This property should not be used in TensorFlow 2.0, as `updates` are applied automatically.\n",
            "  updates=self.state_updates,\n"
          ]
        }
      ]
    },
    {
      "cell_type": "markdown",
      "source": [
        "**Lưu file mem**"
      ],
      "metadata": {
        "id": "wx6tZ5Q-CP4j"
      }
    },
    {
      "cell_type": "code",
      "source": [
        "from rancutils.emulation import output_for_testbench, output_for_streaming"
      ],
      "metadata": {
        "id": "md4ZlYjh2O-m"
      },
      "execution_count": null,
      "outputs": []
    },
    {
      "cell_type": "code",
      "source": [
        "output_for_streaming(cores_sim,max_xy=(4,2),output_path=\"/content/mnist_5_core_mem\")"
      ],
      "metadata": {
        "id": "N7iT10JZ3WMB"
      },
      "execution_count": null,
      "outputs": []
    },
    {
      "cell_type": "code",
      "source": [
        "!zip -r /content/mnist_5_core_mem.zip /content/mnist_5_core_mem"
      ],
      "metadata": {
        "id": "CRr4H69RIY_G"
      },
      "execution_count": null,
      "outputs": []
    },
    {
      "cell_type": "code",
      "source": [
        "from google.colab import files\n",
        "files.download(\"/content/mnist_5_core_mem.zip\")"
      ],
      "metadata": {
        "id": "Y8kSJmDbIbJY",
        "colab": {
          "base_uri": "https://localhost:8080/",
          "height": 17
        },
        "outputId": "0f79d2a6-9af5-4ca1-a169-f0ff6927b039"
      },
      "execution_count": null,
      "outputs": [
        {
          "output_type": "display_data",
          "data": {
            "text/plain": [
              "<IPython.core.display.Javascript object>"
            ],
            "application/javascript": [
              "\n",
              "    async function download(id, filename, size) {\n",
              "      if (!google.colab.kernel.accessAllowed) {\n",
              "        return;\n",
              "      }\n",
              "      const div = document.createElement('div');\n",
              "      const label = document.createElement('label');\n",
              "      label.textContent = `Downloading \"${filename}\": `;\n",
              "      div.appendChild(label);\n",
              "      const progress = document.createElement('progress');\n",
              "      progress.max = size;\n",
              "      div.appendChild(progress);\n",
              "      document.body.appendChild(div);\n",
              "\n",
              "      const buffers = [];\n",
              "      let downloaded = 0;\n",
              "\n",
              "      const channel = await google.colab.kernel.comms.open(id);\n",
              "      // Send a message to notify the kernel that we're ready.\n",
              "      channel.send({})\n",
              "\n",
              "      for await (const message of channel.messages) {\n",
              "        // Send a message to notify the kernel that we're ready.\n",
              "        channel.send({})\n",
              "        if (message.buffers) {\n",
              "          for (const buffer of message.buffers) {\n",
              "            buffers.push(buffer);\n",
              "            downloaded += buffer.byteLength;\n",
              "            progress.value = downloaded;\n",
              "          }\n",
              "        }\n",
              "      }\n",
              "      const blob = new Blob(buffers, {type: 'application/binary'});\n",
              "      const a = document.createElement('a');\n",
              "      a.href = window.URL.createObjectURL(blob);\n",
              "      a.download = filename;\n",
              "      div.appendChild(a);\n",
              "      a.click();\n",
              "      div.remove();\n",
              "    }\n",
              "  "
            ]
          },
          "metadata": {}
        },
        {
          "output_type": "display_data",
          "data": {
            "text/plain": [
              "<IPython.core.display.Javascript object>"
            ],
            "application/javascript": [
              "download(\"download_415ce20b-859a-4daa-8b9c-7fdc57b50173\", \"mnist_5_core_mem.zip\", 32287)"
            ]
          },
          "metadata": {}
        }
      ]
    },
    {
      "cell_type": "markdown",
      "source": [
        "**Lưu input và output chuẩn**"
      ],
      "metadata": {
        "id": "WUKca9YCCUiD"
      }
    },
    {
      "cell_type": "code",
      "source": [
        "# lưu input và output chuẩn\n",
        "output_for_testbench(packets_sim,\n",
        "                         y_test[:num_test_samples,:],\n",
        "                         output_path='/content/',\n",
        "                         input_filename='tb_input.txt',\n",
        "                         correct_filename='tb_correct.txt',\n",
        "                         num_inputs_filename='tb_num_inputs.txt',\n",
        "                         num_outputs_filename='tb_num_outputs.txt',\n",
        "                         max_packet_xy=(512, 512),\n",
        "                         num_axons=256,\n",
        "                         num_ticks=16,\n",
        "                         num_outputs=250)"
      ],
      "metadata": {
        "id": "OipnSEtm00GU"
      },
      "execution_count": null,
      "outputs": []
    },
    {
      "cell_type": "markdown",
      "source": [
        "Sau khi chạy xong đoạn code này, 3 file mới sẽ được tạo ra. Tiến hành tải file \"mnist_config.json\" về để làm input file cho code RANC simulator C++"
      ],
      "metadata": {
        "id": "NXUTG5vJdpsV"
      }
    },
    {
      "cell_type": "markdown",
      "source": [
        "# **C++**"
      ],
      "metadata": {
        "id": "_7iP2MulazDV"
      }
    },
    {
      "cell_type": "markdown",
      "source": [
        "**Compile code**"
      ],
      "metadata": {
        "id": "59mywRAGsLK2"
      }
    },
    {
      "cell_type": "code",
      "source": [
        "cd \"/content/\""
      ],
      "metadata": {
        "id": "JRkhibSsbOqL",
        "colab": {
          "base_uri": "https://localhost:8080/"
        },
        "outputId": "e4fcdf75-243f-46e8-e1a2-95a1676c6461"
      },
      "execution_count": null,
      "outputs": [
        {
          "output_type": "stream",
          "name": "stdout",
          "text": [
            "/content\n"
          ]
        }
      ]
    },
    {
      "cell_type": "code",
      "source": [
        "!unzip \"simulator.zip\""
      ],
      "metadata": {
        "id": "eyVAzbOrZG_y"
      },
      "execution_count": null,
      "outputs": []
    },
    {
      "cell_type": "code",
      "source": [
        "cd \"./simulator/\""
      ],
      "metadata": {
        "id": "al1m8tDOba2r",
        "colab": {
          "base_uri": "https://localhost:8080/"
        },
        "outputId": "8e861fe6-31e6-4e31-88cc-27cba0a8d0bd"
      },
      "execution_count": null,
      "outputs": [
        {
          "output_type": "stream",
          "name": "stdout",
          "text": [
            "/content/simulator\n"
          ]
        }
      ]
    },
    {
      "cell_type": "code",
      "source": [
        "!mkdir build"
      ],
      "metadata": {
        "id": "bPRlcKqWb_Ef"
      },
      "execution_count": null,
      "outputs": []
    },
    {
      "cell_type": "code",
      "source": [
        "cd build"
      ],
      "metadata": {
        "id": "8jpMr4FCbbUo",
        "colab": {
          "base_uri": "https://localhost:8080/"
        },
        "outputId": "79dd487a-035e-4ec3-bd04-b1b75b128345"
      },
      "execution_count": null,
      "outputs": [
        {
          "output_type": "stream",
          "name": "stdout",
          "text": [
            "/content/simulator/build\n"
          ]
        }
      ]
    },
    {
      "cell_type": "code",
      "source": [
        "!cmake \"..\"\n",
        "!make"
      ],
      "metadata": {
        "id": "O_IM4WGXcBbB"
      },
      "execution_count": null,
      "outputs": []
    },
    {
      "cell_type": "markdown",
      "source": [
        "**Chạy code**"
      ],
      "metadata": {
        "id": "MVd3VwY9sO_K"
      }
    },
    {
      "cell_type": "markdown",
      "source": [
        "Muốn chạy với x ảnh thì số tick là x + 2, do trễ 2 tick từ 2 layer"
      ],
      "metadata": {
        "id": "3Ddsl-uhsdWK"
      }
    },
    {
      "cell_type": "code",
      "source": [
        "!/content/simulator/build/ranc_sim -i /content/software/mnist_config.json -o /content/simulator_output.txt -c /content/simulator/config.json 12"
      ],
      "metadata": {
        "id": "L3vAU8dIdZfz"
      },
      "execution_count": null,
      "outputs": []
    },
    {
      "cell_type": "markdown",
      "source": [
        "# **SO SÁNH ĐẦU RA TỪ SIMULATOR VỚI ĐẦU RA CỦA TENSORFLOW**"
      ],
      "metadata": {
        "id": "3G_YgDCic2HH"
      }
    },
    {
      "cell_type": "markdown",
      "source": [
        "Tiến hành upload file output của simulator lên colab, chạy đoạn code này để so sánh\n",
        "\n",
        "Lưu ý:\n",
        "\n",
        "- Tên file đặt là \"simulator_output.txt\" và lưu trong đường dẫn hiện tại đang cd đến\n",
        "\n",
        "- Trước khi upload, xóa 2 dòng đầu tiên trong file output đi (chi tiết trong file doc)"
      ],
      "metadata": {
        "id": "Po2QXAUZeVDp"
      }
    },
    {
      "cell_type": "code",
      "source": [
        "    # TODO: Add usage example for outputting to emulation via rancutils.emulation.write_cores, etc.\n",
        "\n",
        "    ###\n",
        "    # ...\n",
        "    # Start the simulator, etc, and collect results...\n",
        "    # ...\n",
        "    ###\n",
        "\n",
        "    # Process the output to collect final classificaiton results and compare against Tensorflow predictions\n",
        "    from rancutils.simulator import collect_classifications_from_simulator\n",
        "    tf_output = np.load(\"/content/software/mnist_tf_preds.txt\"+\".npy\")\n",
        "    correct_output = np.load(\"/content/software/mnist_correct_preds.txt\"+\".npy\")\n",
        "    simulator_output = collect_classifications_from_simulator(\"/content/simulator_output.txt\", num_classes=10)\n",
        "    \n",
        "    tf_output_flat = np.array([0] * tf_output.shape[0])\n",
        "    for i in range(tf_output.shape[0]):\n",
        "        output_i = tf_output[i, :]\n",
        "        decision = np.where(output_i == max(output_i))[0]\n",
        "        if len(decision) > 1:\n",
        "            decision = decision[0]\n",
        "        tf_output_flat[i] = decision\n",
        "    tf_output = tf_output_flat\n",
        "    \n",
        "    correct_output_flat = np.array([0] * correct_output.shape[0])\n",
        "    for i in range(correct_output.shape[0]):\n",
        "        output_i = correct_output[i, :]\n",
        "        decision = np.where(output_i == max(output_i))[0]\n",
        "        if len(decision) > 1:\n",
        "            decision = decision[0]\n",
        "        correct_output_flat[i] = decision\n",
        "    correct_output = correct_output_flat\n",
        "\n",
        "    if all(tf_output == simulator_output):\n",
        "        print(\"Tensorflow output matches simulator output exactly!\")\n",
        "        print(f\"Testing accuracy against known class labels is {(len(np.where(tf_output == correct_output[:len(tf_output)])[0]) / len(tf_output)) * 100}%\")\n",
        "    else:\n",
        "        print(\"There are differences between Tensorflow and the simulator...\")\n",
        "        print(f\"Differences are in indices {np.where(tf_output != simulator_output)}\")\n",
        "        print(f\"Tensorflow thought the classes were {tf_output[np.where(tf_output != simulator_output)]}\")\n",
        "        print(f\"The simulator thought the classes were {simulator_output[np.where(tf_output != simulator_output)]}\")\n",
        "        print(f\"The correct classes were {correct_output[np.where(tf_output != simulator_output)]}\")"
      ],
      "metadata": {
        "colab": {
          "base_uri": "https://localhost:8080/"
        },
        "id": "f69lEYcm-S-s",
        "outputId": "3c144646-a3d3-471c-df0a-b3a6a9f006aa"
      },
      "execution_count": null,
      "outputs": [
        {
          "output_type": "stream",
          "name": "stdout",
          "text": [
            "Tensorflow output matches simulator output exactly!\n",
            "Testing accuracy against known class labels is 90.0%\n"
          ]
        }
      ]
    }
  ]
}