{
  "nbformat": 4,
  "nbformat_minor": 0,
  "metadata": {
    "colab": {
      "name": "mạng 1 core.ipynb",
      "provenance": [],
      "collapsed_sections": []
    },
    "kernelspec": {
      "name": "python3",
      "display_name": "Python 3"
    },
    "language_info": {
      "name": "python"
    }
  },
  "cells": [
    {
      "cell_type": "markdown",
      "source": [
        "# **GIẢ LẬP KIẾN TRÚC RANC VỚI TẬP MNIST**"
      ],
      "metadata": {
        "id": "GHVGheNRqSZa"
      }
    },
    {
      "cell_type": "markdown",
      "source": [
        "\n",
        "Tiến hành download toàn bộ code trong đường link này:\n",
        "https://github.com/UA-RCL/RANC/tree/master/software\n",
        "sau đó up lên colab, giải nén\n",
        "\n",
        "Có thể sử dụng link này để download: https://minhaskamal.github.io/DownGit/#/home\n"
      ],
      "metadata": {
        "id": "sc2jKO0yYIeT"
      }
    },
    {
      "cell_type": "code",
      "source": [
        "!unzip \"software.zip\""
      ],
      "metadata": {
        "id": "Q6SiX2Ti8m7k"
      },
      "execution_count": null,
      "outputs": []
    },
    {
      "cell_type": "markdown",
      "source": [
        "Code này sẽ sử dụng tealayer2.0 (sử dụng tensorflow 2.x)\n",
        "\n",
        "Sau khi giải nén, do code mặc định của họ đang sử dụng tensorflow 2.0.0b1 mà phiên bản đó giờ không còn được hỗ trợ nên cần phải chỉnh lại.\n",
        "\n",
        "=> Truy cập \"./sofware/tealayers/tealayer2.0/setup.py\", chỉnh dòng 19 thành 'tensorflow-gpu==2.7.0' hoặc bất cứ phiên bản 2.x nào đang được hỗ trợ rồi lưu lại"
      ],
      "metadata": {
        "id": "56eEv45AYP87"
      }
    },
    {
      "cell_type": "markdown",
      "source": [
        "Code của họ bị sai ở một đoạn, để sửa:\n",
        "\n",
        "=> Đi đến \"./software/tealayers/tealayer2.0/tealayer2/additivepooling.py\"\n",
        "\n",
        "Sửa dòng 73 thành \"output = tf.reshape(output, [-1, int(self.num_inputs//self.num_classes), self.num_classes])\" rồi lưu lại"
      ],
      "metadata": {
        "id": "tsqa8REUaMZv"
      }
    },
    {
      "cell_type": "code",
      "source": [
        "cd \"./software\""
      ],
      "metadata": {
        "id": "0Jl4sBiVzNS_"
      },
      "execution_count": null,
      "outputs": []
    },
    {
      "cell_type": "code",
      "source": [
        "!pip install \"./tealayers/tealayer2.0\"\n",
        "!pip install \"./rancutils\""
      ],
      "metadata": {
        "id": "M23YKlD694fI"
      },
      "execution_count": null,
      "outputs": []
    },
    {
      "cell_type": "markdown",
      "source": [
        "# **CÀI ĐẶT CÁC THƯ VIỆN CẦN THIẾT**"
      ],
      "metadata": {
        "id": "aBM19A2ESIKj"
      }
    },
    {
      "cell_type": "code",
      "source": [
        "from tensorflow.image import resize as rz\n",
        "from tealayer2 import Tea, AdditivePooling\n",
        "from tensorflow.keras.layers import Flatten, Activation, Input, Lambda, concatenate\n",
        "from tensorflow.keras.datasets import mnist\n",
        "from tensorflow.keras.optimizers import Adam\n",
        "from tensorflow.keras.utils import to_categorical\n",
        "from tensorflow.keras import Model\n",
        "import numpy as np\n",
        "import tensorflow.compat.v1 as tf\n",
        "tf.disable_v2_behavior()"
      ],
      "metadata": {
        "id": "uHz8iMojSHtI",
        "colab": {
          "base_uri": "https://localhost:8080/"
        },
        "outputId": "8db9a6ed-92a5-425a-9e63-e4f86393adf4"
      },
      "execution_count": null,
      "outputs": [
        {
          "output_type": "stream",
          "name": "stdout",
          "text": [
            "WARNING:tensorflow:From /usr/local/lib/python3.7/dist-packages/tensorflow/python/compat/v2_compat.py:107: disable_resource_variables (from tensorflow.python.ops.variable_scope) is deprecated and will be removed in a future version.\n",
            "Instructions for updating:\n",
            "non-resource variables are not supported in the long term\n"
          ]
        }
      ]
    },
    {
      "cell_type": "markdown",
      "source": [
        "# **KHỞI TẠO MẠNG**"
      ],
      "metadata": {
        "id": "JiUNlPiLSAEM"
      }
    },
    {
      "cell_type": "code",
      "source": [
        "# set kích cỡ ảnh thành 16 x 16\n",
        "inputs = Input(shape=(16,16,1))\n",
        "\n",
        "# Flatten the inputs so that inputs map as: flatten_input[0] -> axon[0], ..., flatten_input[255] -> axon[255]\n",
        "flattened_inputs = Flatten()(inputs)\n",
        "\n",
        "# Generate core, đưa 256 pixel của ảnh vào core.\n",
        "\n",
        "core0 = Lambda(lambda x : x[:, :256])(flattened_inputs)\n",
        "core0 = Tea(units=250, name='tea_1')(core0)\n",
        "core0 = AdditivePooling(10)(core0)"
      ],
      "metadata": {
        "id": "bcghk_23SXWz"
      },
      "execution_count": null,
      "outputs": []
    },
    {
      "cell_type": "markdown",
      "source": [
        "# **TRAIN MODEL**"
      ],
      "metadata": {
        "id": "ZAS5HF-dV4ET"
      }
    },
    {
      "cell_type": "code",
      "source": [
        "# Chuẩn bị dataset để train\n",
        "(X_train, y_train), (X_test, y_test) = mnist.load_data()\n",
        "\n",
        "\n",
        "# expand new axis, channel axis \n",
        "X_train = np.expand_dims(X_train, axis=-1)\n",
        "X_test = np.expand_dims(X_test, axis=-1)\n",
        "\n",
        "# [optional]: we may need 3 channel (instead of 1)\n",
        "X_train = np.repeat(X_train, 1, axis=-1)\n",
        "X_test = np.repeat(X_test, 1, axis=-1)\n",
        "\n",
        "# it's always better to normalize \n",
        "X_train = X_train.astype('float32') / 255\n",
        "X_test = X_test.astype('float32') / 255\n",
        "\n",
        "# resize the input shape. old shape: 28, new shape: 16\n",
        "X_train = rz(X_train, [16,16])\n",
        "X_test = rz(X_test, [16,16])\n",
        "\n",
        "\n",
        "from tensorflow.python.keras import backend \n",
        "sess = backend.get_session()\n",
        "X_train = sess.run(X_train)\n",
        "X_test = sess.run(X_test)\n",
        "\n",
        "\n",
        "# X_train = X_train.eval()\n",
        "# X_test = X_test.eval()\n",
        "\n",
        "y_train = to_categorical(y_train, 10)\n",
        "y_test = to_categorical(y_test, 10)\n",
        "\n",
        "predictions = Activation('softmax')(core0)\n",
        "\n",
        "model = Model(inputs=inputs, outputs=predictions)\n",
        "\n",
        "model.compile(loss='categorical_crossentropy', optimizer=Adam(), metrics=['accuracy'])\n",
        "\n",
        "# X_train = X_train.reshape(-1, 16, 16, 1)\n",
        "# X_test = X_test.reshape(-1, 16, 16, 1)\n",
        "\n",
        "model.fit(X_train, y_train, batch_size=128, epochs=10, verbose=1, validation_split=0.2)\n",
        "\n",
        "score = model.evaluate(X_test, y_test, verbose=0)\n",
        "\n",
        "print(\"Test Loss: \", score[0])\n",
        "print(\"Test Accuracy: \", score[1])"
      ],
      "metadata": {
        "id": "dgyBxubCR_EB"
      },
      "execution_count": null,
      "outputs": []
    },
    {
      "cell_type": "markdown",
      "source": [
        "# **GENERATE MẠNG VÀ CÁC PACKET**"
      ],
      "metadata": {
        "id": "pmLElL37WP5O"
      }
    },
    {
      "cell_type": "code",
      "source": [
        "# Optionally, then save the generated network out for use in the simulator and/or hardware\n",
        "from rancutils.teaconversion import create_cores, create_packets, Packet\n",
        "from rancutils.output_bus import OutputBus\n",
        "from rancutils.serialization import save as sim_save\n",
        "\n",
        "x_test_flat = X_test.reshape((10000, 256))\n",
        "partitioned_packets = []\n",
        "\n",
        "#test với 1 ảnh\n",
        "num_test_samples = 10\n",
        "# Tạo các core bằng hàm create_cores(), sử dụng 1 layer, sử dụng 0 reset mode: neuron_reset_type=0\n",
        "cores_sim = create_cores(model, 1, neuron_reset_type=0) \n",
        "# Partition the packets into groups as they will be fed into each of the input cores\n",
        "partitioned_packets.append(x_test_flat[:num_test_samples, :256])\n",
        "# Tạo packet bằng hàm create_packets()\n",
        "packets_sim = create_packets(partitioned_packets)\n",
        "# Tạo output_bus bằng hàm OutputBus(coordinate, num_outputs)\n",
        "output_bus_sim = OutputBus((0, 1), num_outputs=250)\n",
        "\n",
        "# Đây chính là file đầu vào cho giả lập kiến trúc RANC bằng code C++\n",
        "sim_save(\"input.json\", cores_sim, packets_sim, output_bus_sim, indent=2)\n",
        "# Lưu lại đầu ra của tensorflow predictions và correct labels để tý làm cross validation\n",
        "predict = model.predict(X_test[:num_test_samples,:])\n",
        "idx = []\n",
        "for i in predict:\n",
        "  idx.append(np.argmax(i))\n",
        "test_predictions = to_categorical(idx)\n",
        "np.save(\"tf_preds.txt\", test_predictions)\n",
        "np.save(\"correct_preds.txt\", y_test[:num_test_samples,:])"
      ],
      "metadata": {
        "id": "8UFj0wDIWQeo",
        "colab": {
          "base_uri": "https://localhost:8080/"
        },
        "outputId": "aec399c6-b026-449d-887b-fc66fb171d6c"
      },
      "execution_count": null,
      "outputs": [
        {
          "output_type": "stream",
          "name": "stderr",
          "text": [
            "/usr/local/lib/python3.7/dist-packages/keras/engine/training_v1.py:2079: UserWarning: `Model.state_updates` will be removed in a future version. This property should not be used in TensorFlow 2.0, as `updates` are applied automatically.\n",
            "  updates=self.state_updates,\n"
          ]
        }
      ]
    },
    {
      "cell_type": "markdown",
      "source": [
        "**Lưu file mem**"
      ],
      "metadata": {
        "id": "wx6tZ5Q-CP4j"
      }
    },
    {
      "cell_type": "code",
      "source": [
        "from rancutils.emulation import output_for_testbench, output_for_streaming"
      ],
      "metadata": {
        "id": "md4ZlYjh2O-m"
      },
      "execution_count": null,
      "outputs": []
    },
    {
      "cell_type": "code",
      "source": [
        "output_for_streaming(cores_sim,max_xy=(1,1),output_path=\"/content/mnist_1_core_mem\")"
      ],
      "metadata": {
        "id": "N7iT10JZ3WMB"
      },
      "execution_count": null,
      "outputs": []
    },
    {
      "cell_type": "markdown",
      "source": [
        "**Lưu input và output chuẩn**"
      ],
      "metadata": {
        "id": "WUKca9YCCUiD"
      }
    },
    {
      "cell_type": "code",
      "source": [
        "# lưu input và output chuẩn\n",
        "output_for_testbench(packets_sim,\n",
        "                         y_test[:num_test_samples,:],\n",
        "                         output_path='/content/',\n",
        "                         input_filename='tb_input.txt',\n",
        "                         correct_filename='tb_correct.txt',\n",
        "                         num_inputs_filename='tb_num_inputs.txt',\n",
        "                         num_outputs_filename='tb_num_outputs.txt',\n",
        "                         max_packet_xy=(512, 512),\n",
        "                         num_axons=256,\n",
        "                         num_ticks=16,\n",
        "                         num_outputs=250)"
      ],
      "metadata": {
        "id": "OipnSEtm00GU"
      },
      "execution_count": null,
      "outputs": []
    },
    {
      "cell_type": "markdown",
      "source": [
        "Sau khi chạy xong đoạn code này, 3 file mới sẽ được tạo ra. Tiến hành tải file \"mnist_config.json\" về để làm input file cho code RANC simulator C++"
      ],
      "metadata": {
        "id": "NXUTG5vJdpsV"
      }
    },
    {
      "cell_type": "markdown",
      "source": [
        "# **C++**"
      ],
      "metadata": {
        "id": "_7iP2MulazDV"
      }
    },
    {
      "cell_type": "markdown",
      "source": [
        "**Compile code**"
      ],
      "metadata": {
        "id": "59mywRAGsLK2"
      }
    },
    {
      "cell_type": "code",
      "source": [
        "cd \"/content/\""
      ],
      "metadata": {
        "id": "JRkhibSsbOqL",
        "colab": {
          "base_uri": "https://localhost:8080/"
        },
        "outputId": "d865b4d3-1299-44ca-bbfb-4cf594bd1a62"
      },
      "execution_count": null,
      "outputs": [
        {
          "output_type": "stream",
          "name": "stdout",
          "text": [
            "/content\n"
          ]
        }
      ]
    },
    {
      "cell_type": "code",
      "source": [
        "!unzip \"simulator.zip\""
      ],
      "metadata": {
        "id": "eyVAzbOrZG_y"
      },
      "execution_count": null,
      "outputs": []
    },
    {
      "cell_type": "code",
      "source": [
        "cd \"./simulator/\""
      ],
      "metadata": {
        "id": "al1m8tDOba2r",
        "colab": {
          "base_uri": "https://localhost:8080/"
        },
        "outputId": "85839437-bdc5-47ce-e5a4-4d7c66a77e44"
      },
      "execution_count": null,
      "outputs": [
        {
          "output_type": "stream",
          "name": "stdout",
          "text": [
            "/content/simulator\n"
          ]
        }
      ]
    },
    {
      "cell_type": "code",
      "source": [
        "!mkdir build"
      ],
      "metadata": {
        "id": "bPRlcKqWb_Ef"
      },
      "execution_count": null,
      "outputs": []
    },
    {
      "cell_type": "code",
      "source": [
        "cd build"
      ],
      "metadata": {
        "id": "8jpMr4FCbbUo",
        "colab": {
          "base_uri": "https://localhost:8080/"
        },
        "outputId": "e96960ba-0268-4049-c9ab-d8db661ecef7"
      },
      "execution_count": null,
      "outputs": [
        {
          "output_type": "stream",
          "name": "stdout",
          "text": [
            "/content/simulator/build\n"
          ]
        }
      ]
    },
    {
      "cell_type": "code",
      "source": [
        "!cmake \"..\"\n",
        "!make"
      ],
      "metadata": {
        "id": "O_IM4WGXcBbB",
        "colab": {
          "base_uri": "https://localhost:8080/"
        },
        "outputId": "96c3918c-37b1-4f32-ae00-332e9651549d"
      },
      "execution_count": null,
      "outputs": [
        {
          "output_type": "stream",
          "name": "stdout",
          "text": [
            "-- The C compiler identification is GNU 7.5.0\n",
            "-- The CXX compiler identification is GNU 7.5.0\n",
            "-- Check for working C compiler: /usr/bin/cc\n",
            "-- Check for working C compiler: /usr/bin/cc -- works\n",
            "-- Detecting C compiler ABI info\n",
            "-- Detecting C compiler ABI info - done\n",
            "-- Detecting C compile features\n",
            "-- Detecting C compile features - done\n",
            "-- Check for working CXX compiler: /usr/bin/c++\n",
            "-- Check for working CXX compiler: /usr/bin/c++ -- works\n",
            "-- Detecting CXX compiler ABI info\n",
            "-- Detecting CXX compiler ABI info - done\n",
            "-- Detecting CXX compile features\n",
            "-- Detecting CXX compile features - done\n",
            "-- Configuring done\n",
            "-- Generating done\n",
            "-- Build files have been written to: /content/simulator/build\n",
            "\u001b[35m\u001b[1mScanning dependencies of target ranc_sim\u001b[0m\n",
            "[  8%] \u001b[32mBuilding CXX object CMakeFiles/ranc_sim.dir/src/core.cpp.o\u001b[0m\n",
            "[ 16%] \u001b[32mBuilding CXX object CMakeFiles/ranc_sim.dir/src/corecontroller.cpp.o\u001b[0m\n",
            "[ 25%] \u001b[32mBuilding CXX object CMakeFiles/ranc_sim.dir/src/csramrow.cpp.o\u001b[0m\n",
            "[ 33%] \u001b[32mBuilding CXX object CMakeFiles/ranc_sim.dir/src/main.cpp.o\u001b[0m\n",
            "[ 41%] \u001b[32mBuilding CXX object CMakeFiles/ranc_sim.dir/src/neuronblock.cpp.o\u001b[0m\n",
            "[ 50%] \u001b[32mBuilding CXX object CMakeFiles/ranc_sim.dir/src/outputbus.cpp.o\u001b[0m\n",
            "[ 58%] \u001b[32mBuilding CXX object CMakeFiles/ranc_sim.dir/src/packet.cpp.o\u001b[0m\n",
            "[ 66%] \u001b[32mBuilding CXX object CMakeFiles/ranc_sim.dir/src/rancgrid.cpp.o\u001b[0m\n",
            "[ 75%] \u001b[32mBuilding CXX object CMakeFiles/ranc_sim.dir/src/router.cpp.o\u001b[0m\n",
            "[ 83%] \u001b[32mBuilding CXX object CMakeFiles/ranc_sim.dir/src/scheduler.cpp.o\u001b[0m\n",
            "[ 91%] \u001b[32mBuilding CXX object CMakeFiles/ranc_sim.dir/src/schedulersram.cpp.o\u001b[0m\n",
            "[100%] \u001b[32m\u001b[1mLinking CXX executable ranc_sim\u001b[0m\n",
            "[100%] Built target ranc_sim\n"
          ]
        }
      ]
    },
    {
      "cell_type": "markdown",
      "source": [
        "**Chạy code**"
      ],
      "metadata": {
        "id": "MVd3VwY9sO_K"
      }
    },
    {
      "cell_type": "markdown",
      "source": [
        "Muốn chạy với x ảnh thì số tick là x + 2, do trễ 2 tick từ 2 layer"
      ],
      "metadata": {
        "id": "3Ddsl-uhsdWK"
      }
    },
    {
      "cell_type": "code",
      "source": [
        "cd /content/simulator/build"
      ],
      "metadata": {
        "colab": {
          "base_uri": "https://localhost:8080/"
        },
        "id": "9iRbm6f_yTWK",
        "outputId": "636735be-fa9a-4d39-b2e6-75a58bee59e3"
      },
      "execution_count": null,
      "outputs": [
        {
          "output_type": "stream",
          "name": "stdout",
          "text": [
            "/content/simulator/build\n"
          ]
        }
      ]
    },
    {
      "cell_type": "code",
      "source": [
        "!/content/simulator/build/ranc_sim -i /content/software/input.json -o /content/simulator_output.txt -c /content/simulator/config.json 11"
      ],
      "metadata": {
        "id": "L3vAU8dIdZfz"
      },
      "execution_count": null,
      "outputs": []
    },
    {
      "cell_type": "markdown",
      "source": [
        "# **SO SÁNH ĐẦU RA TỪ SIMULATOR VỚI ĐẦU RA CỦA TENSORFLOW**"
      ],
      "metadata": {
        "id": "3G_YgDCic2HH"
      }
    },
    {
      "cell_type": "markdown",
      "source": [
        "Tiến hành upload file output của simulator lên colab, chạy đoạn code này để so sánh\n",
        "\n",
        "Lưu ý:\n",
        "\n",
        "- Tên file đặt là \"simulator_output.txt\" và lưu trong đường dẫn hiện tại đang cd đến\n",
        "\n",
        "- Trước khi upload, xóa 2 dòng đầu tiên trong file output đi (chi tiết trong file doc)"
      ],
      "metadata": {
        "id": "Po2QXAUZeVDp"
      }
    },
    {
      "cell_type": "code",
      "source": [
        "    # TODO: Add usage example for outputting to emulation via rancutils.emulation.write_cores, etc.\n",
        "\n",
        "    ###\n",
        "    # ...\n",
        "    # Start the simulator, etc, and collect results...\n",
        "    # ...\n",
        "    ###\n",
        "\n",
        "    # Process the output to collect final classificaiton results and compare against Tensorflow predictions\n",
        "    from rancutils.simulator import collect_classifications_from_simulator\n",
        "    tf_output = np.load(\"/content/software/tf_preds.txt\"+\".npy\")\n",
        "    correct_output = np.load(\"/content/software/correct_preds.txt\"+\".npy\")\n",
        "    simulator_output = collect_classifications_from_simulator(\"/content/simulator_output.txt\", num_classes=10)\n",
        "    \n",
        "    tf_output_flat = np.array([0] * tf_output.shape[0])\n",
        "    for i in range(tf_output.shape[0]):\n",
        "        output_i = tf_output[i, :]\n",
        "        decision = np.where(output_i == max(output_i))[0]\n",
        "        if len(decision) > 1:\n",
        "            decision = decision[0]\n",
        "        tf_output_flat[i] = decision\n",
        "    tf_output = tf_output_flat\n",
        "    \n",
        "    correct_output_flat = np.array([0] * correct_output.shape[0])\n",
        "    for i in range(correct_output.shape[0]):\n",
        "        output_i = correct_output[i, :]\n",
        "        decision = np.where(output_i == max(output_i))[0]\n",
        "        if len(decision) > 1:\n",
        "            decision = decision[0]\n",
        "        correct_output_flat[i] = decision\n",
        "    correct_output = correct_output_flat\n",
        "\n",
        "    if all(tf_output == simulator_output):\n",
        "        print(\"Tensorflow output matches simulator output exactly!\")\n",
        "        print(f\"Testing accuracy against known class labels is {(len(np.where(tf_output == correct_output[:len(tf_output)])[0]) / len(tf_output)) * 100}%\")\n",
        "    else:\n",
        "        print(\"There are differences between Tensorflow and the simulator...\")\n",
        "        print(f\"Differences are in indices {np.where(tf_output != simulator_output)}\")\n",
        "        print(f\"Tensorflow thought the classes were {tf_output[np.where(tf_output != simulator_output)]}\")\n",
        "        print(f\"The simulator thought the classes were {simulator_output[np.where(tf_output != simulator_output)]}\")\n",
        "        print(f\"The correct classes were {correct_output[np.where(tf_output != simulator_output)]}\")"
      ],
      "metadata": {
        "colab": {
          "base_uri": "https://localhost:8080/"
        },
        "id": "f69lEYcm-S-s",
        "outputId": "87169975-4765-48e1-997c-691bc7d80ece"
      },
      "execution_count": null,
      "outputs": [
        {
          "output_type": "stream",
          "name": "stdout",
          "text": [
            "Tensorflow output matches simulator output exactly!\n",
            "Testing accuracy against known class labels is 80.0%\n"
          ]
        }
      ]
    }
  ]
}